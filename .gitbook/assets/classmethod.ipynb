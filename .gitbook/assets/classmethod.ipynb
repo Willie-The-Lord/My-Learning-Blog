{
 "cells": [
  {
   "cell_type": "code",
   "execution_count": 2,
   "id": "36c82ce8",
   "metadata": {},
   "outputs": [
    {
     "name": "stdout",
     "output_type": "stream",
     "text": [
      "My Total Score:  100\n"
     ]
    }
   ],
   "source": [
    "class Athlete:\n",
    "    total_score = 0\n",
    "    \n",
    "    def earn_score(self, points):\n",
    "        total_score = points\n",
    "        print(\"My Total Score: \", total_score)\n",
    "\n",
    "# convert earn_score() to class method\n",
    "Athlete.print_score = classmethod(Athlete.earn_score)\n",
    "Athlete.print_score(100) "
   ]
  },
  {
   "cell_type": "code",
   "execution_count": 5,
   "id": "525909cf",
   "metadata": {},
   "outputs": [
    {
     "name": "stdout",
     "output_type": "stream",
     "text": [
      "My Total Score:  100\n"
     ]
    }
   ],
   "source": [
    "class Athlete:\n",
    "    total_score = 100\n",
    "    \n",
    "    @classmethod\n",
    "    def print_score(cls):\n",
    "        print(\"My Total Score: \", cls.total_score)\n",
    "\n",
    "Athlete.print_score()"
   ]
  },
  {
   "cell_type": "code",
   "execution_count": 7,
   "id": "e55221cd",
   "metadata": {},
   "outputs": [
    {
     "name": "stdout",
     "output_type": "stream",
     "text": [
      "Perry's age is: 20\n",
      "Willie's age is: 23\n"
     ]
    }
   ],
   "source": [
    "from datetime import date\n",
    "\n",
    "class Athlete:\n",
    "    def __init__(self, name, age):\n",
    "        self.name = name\n",
    "        self.age = age\n",
    "        \n",
    "    @classmethod\n",
    "    def calculateAge(cls, name, birth_year):\n",
    "        return cls(name, date.today().year - birth_year)\n",
    "\n",
    "    def display(self):\n",
    "        print(self.name + \"'s age is: \" + str(self.age))\n",
    "        \n",
    "athlete1 = Athlete('Perry', 20)\n",
    "athlete1.display()\n",
    "\n",
    "# equivalent to Athlete(name, date.today().year - birthYear)\n",
    "athlete2 = Athlete.calculateAge('Willie', 1999)\n",
    "athlete2.display()"
   ]
  },
  {
   "cell_type": "code",
   "execution_count": 10,
   "id": "b8ab77fe",
   "metadata": {},
   "outputs": [
    {
     "name": "stdout",
     "output_type": "stream",
     "text": [
      "True\n",
      "False\n"
     ]
    }
   ],
   "source": [
    "from datetime import date\n",
    "\n",
    "class Athlete:\n",
    "    def __init__(self, name, age):\n",
    "        self.name = name\n",
    "        self.age = age\n",
    "    \n",
    "    # Hardcode the instance type during creation\n",
    "    # Cause a problem when inheriting Athlete to Student\n",
    "    @staticmethod\n",
    "    def calculateFromFathersAge(name, fatherAge, fatherPersonAgeDiff):\n",
    "        return Athlete(name, date.today().year - fatherAge + fatherPersonAgeDiff)\n",
    "\n",
    "    @classmethod\n",
    "    def calculateAge(cls, name, birth_year):\n",
    "        return cls(name, date.today().year - birth_year)\n",
    "\n",
    "    def display(self):\n",
    "        print(self.name + \"'s age is: \" + str(self.age))\n",
    "\n",
    "class Student(Athlete):\n",
    "    sex = 'Male'\n",
    "\n",
    "# Using classmethod ensure the OOP\n",
    "s1 = Student.calculateAge('Perry', 1999)\n",
    "print(isinstance(s1, Student))\n",
    "\n",
    "s2 = Student.calculateFromFathersAge('Willie', 1965, 20)\n",
    "print(isinstance(s2, Student))"
   ]
  }
 ],
 "metadata": {
  "kernelspec": {
   "display_name": "Python 3 (ipykernel)",
   "language": "python",
   "name": "python3"
  },
  "language_info": {
   "codemirror_mode": {
    "name": "ipython",
    "version": 3
   },
   "file_extension": ".py",
   "mimetype": "text/x-python",
   "name": "python",
   "nbconvert_exporter": "python",
   "pygments_lexer": "ipython3",
   "version": "3.9.12"
  }
 },
 "nbformat": 4,
 "nbformat_minor": 5
}
